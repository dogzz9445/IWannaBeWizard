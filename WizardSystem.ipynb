{
 "cells": [
  {
   "cell_type": "code",
   "execution_count": 1,
   "id": "86fda38a",
   "metadata": {},
   "outputs": [
    {
     "ename": "ModuleNotFoundError",
     "evalue": "No module named 'wizard_system_pb2'",
     "output_type": "error",
     "traceback": [
      "\u001b[1;31m---------------------------------------------------------------------------\u001b[0m",
      "\u001b[1;31mModuleNotFoundError\u001b[0m                       Traceback (most recent call last)",
      "\u001b[1;32m~\\AppData\\Local\\Temp/ipykernel_5036/3352215214.py\u001b[0m in \u001b[0;36m<module>\u001b[1;34m\u001b[0m\n\u001b[0;32m     14\u001b[0m \u001b[1;33m\u001b[0m\u001b[0m\n\u001b[0;32m     15\u001b[0m \u001b[1;32mimport\u001b[0m \u001b[0mgrpc\u001b[0m\u001b[1;33m\u001b[0m\u001b[1;33m\u001b[0m\u001b[0m\n\u001b[1;32m---> 16\u001b[1;33m \u001b[1;32mimport\u001b[0m \u001b[0mwizard_system_pb2\u001b[0m\u001b[1;33m\u001b[0m\u001b[1;33m\u001b[0m\u001b[0m\n\u001b[0m\u001b[0;32m     17\u001b[0m \u001b[1;32mimport\u001b[0m \u001b[0mwizard_system_pb2_grpc\u001b[0m\u001b[1;33m\u001b[0m\u001b[1;33m\u001b[0m\u001b[0m\n",
      "\u001b[1;31mModuleNotFoundError\u001b[0m: No module named 'wizard_system_pb2'"
     ]
    }
   ],
   "source": [
    "from tensorflow import keras\n",
    "from tensorflow.keras.applications.inception_resnet_v2 import preprocess_input, decode_predictions\n",
    "from tensorflow.keras.preprocessing import image\n",
    "from tensorflow.keras.preprocessing.image import ImageDataGenerator\n",
    "from tensorflow.keras.callbacks import EarlyStopping\n",
    "from tensorflow.keras.callbacks import ModelCheckpoint\n",
    "import numpy as np\n",
    "\n",
    "from concurrent import futures\n",
    "import logging\n",
    "import math\n",
    "import time\n",
    "from PIL import Image\n",
    "\n",
    "import grpc\n",
    "import wizard_system_pb2\n",
    "import wizard_system_pb2_grpc"
   ]
  },
  {
   "cell_type": "markdown",
   "id": "f72cbd2b",
   "metadata": {},
   "source": [
    "# Server Source"
   ]
  },
  {
   "cell_type": "code",
   "execution_count": null,
   "id": "a815c1c8",
   "metadata": {},
   "outputs": [],
   "source": [
    "def resize_image_from_bytes(pre_image, original_size: tuple, target_size: tuple):\n",
    "    img = np.frombuffer(pre_image, dtype=np.float32).reshape(original_size + (3,))\n",
    "    img = image.array_to_img(img)\n",
    "    return img.resize(target_size) \n",
    "\n",
    "def predict(model, image):\n",
    "    image = np.expand_dims(image, axis=0)\n",
    "    image = preprocess_input(image)\n",
    "\n",
    "    preds = model.predict(image).argmax(axis=1)\n",
    "    print('Predicted:', preds)\n",
    "    return preds\n",
    "\n",
    "class WizardSystemServicer(wizard_system_pb2_grpc.WizardServiceServicer):\n",
    "    \n",
    "    def __init__(self):\n",
    "        self.model = keras.models.load_model('model/model_classification_20220116')\n",
    "        pass\n",
    "        \n",
    "    def PostMagicImageRaw(self, request, context):\n",
    "        context.set_code(grpc.StatusCode.OK)\n",
    "        resized_image = resize_image_from_bytes(request.imageData, (request.height, request.width), (299, 299))\n",
    "        preds = predict(self.model, resized_image)\n",
    "        return wizard_system_pb2.Magic(type=str(preds[0]))\n",
    "\n",
    "    def PostMagicImagePng(self, request, context):\n",
    "        context.set_code(grpc.StatusCode.OK)\n",
    "        context.set_details('Method not implemented!')\n",
    "        raise NotImplementedError('Method not implemented!')\n",
    "\n",
    "\n",
    "def serve():\n",
    "    server = grpc.server(futures.ThreadPoolExecutor(max_workers=10))\n",
    "    wizard_system_pb2_grpc.add_WizardServiceServicer_to_server(WizardSystemServicer(), server)\n",
    "    server.add_insecure_port('[::]:50051')\n",
    "    server.start()\n",
    "    server.wait_for_termination()\n",
    "\n",
    "\n",
    "if __name__ == '__main__':\n",
    "    logging.basicConfig()\n",
    "    serve()\n",
    "    "
   ]
  },
  {
   "cell_type": "code",
   "execution_count": null,
   "id": "f0070304",
   "metadata": {},
   "outputs": [],
   "source": []
  },
  {
   "cell_type": "markdown",
   "id": "06e50af5",
   "metadata": {},
   "source": [
    "# Client"
   ]
  },
  {
   "cell_type": "code",
   "execution_count": 9,
   "id": "d633ac0b",
   "metadata": {},
   "outputs": [],
   "source": [
    "from __future__ import print_function\n",
    "\n",
    "from tensorflow.keras.preprocessing import image as KerasImage\n",
    "import logging\n",
    "import random\n",
    "import numpy as np\n",
    "\n",
    "import grpc\n",
    "from wizard.proto import wizard_api_pb2 as Api\n",
    "from wizard.proto import wizard_api_pb2_grpc as ApiGrpc\n"
   ]
  },
  {
   "cell_type": "code",
   "execution_count": 15,
   "id": "f572fc3d",
   "metadata": {},
   "outputs": [
    {
     "name": "stdout",
     "output_type": "stream",
     "text": [
      "-------------- GetFeature --------------\n",
      "type: \"square\"\n",
      "\n"
     ]
    }
   ],
   "source": [
    "def run():\n",
    "    # NOTE(gRPC Python Team): .close() is possible on a channel and should be\n",
    "    # used in circumstances in which the with statement does not fit the needs\n",
    "    # of the code.\n",
    "    with grpc.insecure_channel('localhost:50051') as channel:\n",
    "        stub = ApiGrpc.WizardServiceStub(channel)\n",
    "\n",
    "        img_path = './test_data/triangle.png'\n",
    "        img = KerasImage.load_img(img_path, target_size=(300, 300))\n",
    "        x = KerasImage.img_to_array(img) \n",
    "\n",
    "        image = Api.Image(width=300, height=300, imageData=x.astype(np.byte).tobytes())\n",
    "        result = stub.PostMagicImageRaw(image)\n",
    "        print(\"-------------- GetFeature --------------\")\n",
    "        print(str(result))\n",
    "\n",
    "\n",
    "if __name__ == '__main__':\n",
    "    logging.basicConfig()\n",
    "    run()"
   ]
  },
  {
   "cell_type": "code",
   "execution_count": 10,
   "id": "2297ceda",
   "metadata": {
    "scrolled": true
   },
   "outputs": [
    {
     "name": "stdout",
     "output_type": "stream",
     "text": [
      "1080000\n"
     ]
    },
    {
     "data": {
      "text/plain": [
       "array([[[255., 255., 255.],\n",
       "        [255., 255., 255.],\n",
       "        [255., 255., 255.],\n",
       "        ...,\n",
       "        [255., 255., 255.],\n",
       "        [255., 255., 255.],\n",
       "        [255., 255., 255.]],\n",
       "\n",
       "       [[255., 255., 255.],\n",
       "        [255., 255., 255.],\n",
       "        [255., 255., 255.],\n",
       "        ...,\n",
       "        [255., 255., 255.],\n",
       "        [255., 255., 255.],\n",
       "        [255., 255., 255.]],\n",
       "\n",
       "       [[255., 255., 255.],\n",
       "        [255., 255., 255.],\n",
       "        [255., 255., 255.],\n",
       "        ...,\n",
       "        [255., 255., 255.],\n",
       "        [255., 255., 255.],\n",
       "        [255., 255., 255.]],\n",
       "\n",
       "       ...,\n",
       "\n",
       "       [[255., 255., 255.],\n",
       "        [255., 255., 255.],\n",
       "        [255., 255., 255.],\n",
       "        ...,\n",
       "        [255., 255., 255.],\n",
       "        [255., 255., 255.],\n",
       "        [255., 255., 255.]],\n",
       "\n",
       "       [[255., 255., 255.],\n",
       "        [255., 255., 255.],\n",
       "        [255., 255., 255.],\n",
       "        ...,\n",
       "        [255., 255., 255.],\n",
       "        [255., 255., 255.],\n",
       "        [255., 255., 255.]],\n",
       "\n",
       "       [[255., 255., 255.],\n",
       "        [255., 255., 255.],\n",
       "        [255., 255., 255.],\n",
       "        ...,\n",
       "        [255., 255., 255.],\n",
       "        [255., 255., 255.],\n",
       "        [255., 255., 255.]]], dtype=float32)"
      ]
     },
     "execution_count": 10,
     "metadata": {},
     "output_type": "execute_result"
    }
   ],
   "source": [
    "img_path = './test_data/triangle.png'\n",
    "img = KerasImage.load_img(img_path, target_size=(300, 300))\n",
    "x = KerasImage.img_to_array(img)\n",
    "x.astype(np.byte).tobytes()\n",
    "x.astype(np.byte).tobytes()\n",
    "print(len(x.tobytes()))\n",
    "np.frombuffer(x.tobytes(), dtype=np.float32).reshape((300,300,3))\n"
   ]
  },
  {
   "cell_type": "code",
   "execution_count": 5,
   "id": "5ab48cef",
   "metadata": {},
   "outputs": [],
   "source": [
    "from os import listdir\n",
    "from os.path import isfile, join\n",
    "\n",
    "def all_filename_from(directory: str):\n",
    "    return [f for f in listdir(directory) if isfile(join(directory, f))]\n"
   ]
  },
  {
   "cell_type": "code",
   "execution_count": 7,
   "id": "bd0d2199",
   "metadata": {},
   "outputs": [
    {
     "data": {
      "text/plain": [
       "[]"
      ]
     },
     "execution_count": 7,
     "metadata": {},
     "output_type": "execute_result"
    }
   ],
   "source": [
    "all_filename_from('./train_data')"
   ]
  },
  {
   "cell_type": "markdown",
   "id": "14711498",
   "metadata": {},
   "source": [
    "# Test Model"
   ]
  },
  {
   "cell_type": "code",
   "execution_count": 10,
   "id": "0fff8619",
   "metadata": {},
   "outputs": [],
   "source": [
    "import manage\n",
    "from manage import WizardManager\n",
    "from wizard import *\n",
    "\n",
    "from tensorflow.keras.applications.inception_resnet_v2 import preprocess_input, decode_predictions\n",
    "from tensorflow.keras.preprocessing import image\n",
    "from tensorflow.keras.preprocessing.image import ImageDataGenerator\n",
    "from tensorflow.keras.callbacks import EarlyStopping\n",
    "from tensorflow.keras.preprocessing import image as KerasImage"
   ]
  },
  {
   "cell_type": "code",
   "execution_count": 14,
   "id": "ebdf8d14",
   "metadata": {},
   "outputs": [],
   "source": [
    "%load_ext autoreload\n",
    "%autoreload 2\n",
    "\n",
    "from manage import WizardManager"
   ]
  },
  {
   "cell_type": "code",
   "execution_count": 19,
   "id": "40496f79",
   "metadata": {},
   "outputs": [],
   "source": []
  },
  {
   "cell_type": "code",
   "execution_count": 15,
   "id": "64e10611",
   "metadata": {},
   "outputs": [],
   "source": [
    "manager = WizardManager()\n",
    "classifier = MagicClassifier(manager.model_path)"
   ]
  },
  {
   "cell_type": "code",
   "execution_count": 16,
   "id": "45af0612",
   "metadata": {},
   "outputs": [],
   "source": [
    "filenames = manager.all_filename_from(manager.test_data_path)\n",
    "loaded_image = manager.load_image(manager.test_data_path + filenames[0])"
   ]
  },
  {
   "cell_type": "code",
   "execution_count": 28,
   "id": "4c40a369",
   "metadata": {},
   "outputs": [],
   "source": [
    "img = KerasImage.load_img(manager.test_data_path + filenames[0], target_size=(299, 299))\n",
    "arr_img = KerasImage.img_to_array(img)\n",
    "\n",
    "loaded_image = arr_img.astype(np.float32).reshape((299, 299, 3))"
   ]
  },
  {
   "cell_type": "code",
   "execution_count": 29,
   "id": "60696db7",
   "metadata": {},
   "outputs": [],
   "source": [
    "image = np.expand_dims(loaded_image, axis=0)\n",
    "image = preprocess_input(image)\n",
    "\n",
    "isValidate = False\n",
    "preds = classifier.model.predict(image)"
   ]
  },
  {
   "cell_type": "code",
   "execution_count": 30,
   "id": "6fac8b36",
   "metadata": {},
   "outputs": [
    {
     "data": {
      "text/plain": [
       "array([[7.7850935e-05, 5.5265285e-02, 3.9012154e-04, 9.4381118e-01,\n",
       "        4.5560490e-04]], dtype=float32)"
      ]
     },
     "execution_count": 30,
     "metadata": {},
     "output_type": "execute_result"
    }
   ],
   "source": [
    "preds"
   ]
  },
  {
   "cell_type": "markdown",
   "id": "0ed094f0",
   "metadata": {},
   "source": [
    "# Example codes"
   ]
  },
  {
   "cell_type": "code",
   "execution_count": null,
   "id": "b1f6b264",
   "metadata": {},
   "outputs": [],
   "source": [
    "\n",
    "class RouteGuideServicer(wizard_system_pb2_grpc.RouteGuideServicer):\n",
    "    \"\"\"Provides methods that implement functionality of route guide server.\"\"\"\n",
    "\n",
    "    def __init__(self):\n",
    "        self.db = route_guide_resources.read_route_guide_database()\n",
    "\n",
    "    def GetFeature(self, request, context):\n",
    "        feature = get_feature(self.db, request)\n",
    "        if feature is None:\n",
    "            return wizard_system_pb2.Feature(name=\"\", location=request)\n",
    "        else:\n",
    "            return feature\n",
    "\n",
    "    def ListFeatures(self, request, context):\n",
    "        left = min(request.lo.longitude, request.hi.longitude)\n",
    "        right = max(request.lo.longitude, request.hi.longitude)\n",
    "        top = max(request.lo.latitude, request.hi.latitude)\n",
    "        bottom = min(request.lo.latitude, request.hi.latitude)\n",
    "        for feature in self.db:\n",
    "            if (feature.location.longitude >= left and\n",
    "                    feature.location.longitude <= right and\n",
    "                    feature.location.latitude >= bottom and\n",
    "                    feature.location.latitude <= top):\n",
    "                yield feature\n",
    "\n",
    "    def RecordRoute(self, request_iterator, context):\n",
    "        point_count = 0\n",
    "        feature_count = 0\n",
    "        distance = 0.0\n",
    "        prev_point = None\n",
    "\n",
    "        start_time = time.time()\n",
    "        for point in request_iterator:\n",
    "            point_count += 1\n",
    "            if get_feature(self.db, point):\n",
    "                feature_count += 1\n",
    "            if prev_point:\n",
    "                distance += get_distance(prev_point, point)\n",
    "            prev_point = point\n",
    "\n",
    "        elapsed_time = time.time() - start_time\n",
    "        return wizard_system_pb2.RouteSummary(point_count=point_count,\n",
    "                                            feature_count=feature_count,\n",
    "                                            distance=int(distance),\n",
    "                                            elapsed_time=int(elapsed_time))\n",
    "\n",
    "    def RouteChat(self, request_iterator, context):\n",
    "        prev_notes = []\n",
    "        for new_note in request_iterator:\n",
    "            for prev_note in prev_notes:\n",
    "                if prev_note.location == new_note.location:\n",
    "                    yield prev_note\n",
    "            prev_notes.append(new_note)\n"
   ]
  },
  {
   "cell_type": "code",
   "execution_count": null,
   "id": "b8e055b3",
   "metadata": {},
   "outputs": [],
   "source": [
    "from concurrent import futures\n",
    "import logging\n",
    "import math\n",
    "import time\n",
    "\n",
    "def get_feature(feature_db, point):\n",
    "    \"\"\"Returns Feature at given location or None.\"\"\"\n",
    "    for feature in feature_db:\n",
    "        if feature.location == point:\n",
    "            return feature\n",
    "    return None\n",
    "\n",
    "\n",
    "def get_distance(start, end):\n",
    "    \"\"\"Distance between two points.\"\"\"\n",
    "    coord_factor = 10000000.0\n",
    "    lat_1 = start.latitude / coord_factor\n",
    "    lat_2 = end.latitude / coord_factor\n",
    "    lon_1 = start.longitude / coord_factor\n",
    "    lon_2 = end.longitude / coord_factor\n",
    "    lat_rad_1 = math.radians(lat_1)\n",
    "    lat_rad_2 = math.radians(lat_2)\n",
    "    delta_lat_rad = math.radians(lat_2 - lat_1)\n",
    "    delta_lon_rad = math.radians(lon_2 - lon_1)\n",
    "\n",
    "    # Formula is based on http://mathforum.org/library/drmath/view/51879.html\n",
    "    a = (pow(math.sin(delta_lat_rad / 2), 2) +\n",
    "         (math.cos(lat_rad_1) * math.cos(lat_rad_2) *\n",
    "          pow(math.sin(delta_lon_rad / 2), 2)))\n",
    "    c = 2 * math.atan2(math.sqrt(a), math.sqrt(1 - a))\n",
    "    R = 6371000\n",
    "    # metres\n",
    "    return R * c\n",
    "\n",
    "\n",
    "class RouteGuideServicer(route_guide_pb2_grpc.RouteGuideServicer):\n",
    "    \"\"\"Provides methods that implement functionality of route guide server.\"\"\"\n",
    "\n",
    "    def __init__(self):\n",
    "        self.db = route_guide_resources.read_route_guide_database()\n",
    "\n",
    "    def GetFeature(self, request, context):\n",
    "        feature = get_feature(self.db, request)\n",
    "        if feature is None:\n",
    "            return route_guide_pb2.Feature(name=\"\", location=request)\n",
    "        else:\n",
    "            return feature\n",
    "\n",
    "    def ListFeatures(self, request, context):\n",
    "        left = min(request.lo.longitude, request.hi.longitude)\n",
    "        right = max(request.lo.longitude, request.hi.longitude)\n",
    "        top = max(request.lo.latitude, request.hi.latitude)\n",
    "        bottom = min(request.lo.latitude, request.hi.latitude)\n",
    "        for feature in self.db:\n",
    "            if (feature.location.longitude >= left and\n",
    "                    feature.location.longitude <= right and\n",
    "                    feature.location.latitude >= bottom and\n",
    "                    feature.location.latitude <= top):\n",
    "                yield feature\n",
    "\n",
    "    def RecordRoute(self, request_iterator, context):\n",
    "        point_count = 0\n",
    "        feature_count = 0\n",
    "        distance = 0.0\n",
    "        prev_point = None\n",
    "\n",
    "        start_time = time.time()\n",
    "        for point in request_iterator:\n",
    "            point_count += 1\n",
    "            if get_feature(self.db, point):\n",
    "                feature_count += 1\n",
    "            if prev_point:\n",
    "                distance += get_distance(prev_point, point)\n",
    "            prev_point = point\n",
    "\n",
    "        elapsed_time = time.time() - start_time\n",
    "        return route_guide_pb2.RouteSummary(point_count=point_count,\n",
    "                                            feature_count=feature_count,\n",
    "                                            distance=int(distance),\n",
    "                                            elapsed_time=int(elapsed_time))\n",
    "\n",
    "    def RouteChat(self, request_iterator, context):\n",
    "        prev_notes = []\n",
    "        for new_note in request_iterator:\n",
    "            for prev_note in prev_notes:\n",
    "                if prev_note.location == new_note.location:\n",
    "                    yield prev_note\n",
    "            prev_notes.append(new_note)\n",
    "\n",
    "\n",
    "def serve():\n",
    "    server = grpc.server(futures.ThreadPoolExecutor(max_workers=10))\n",
    "    route_guide_pb2_grpc.add_RouteGuideServicer_to_server(RouteGuideServicer(), server)\n",
    "    server.add_insecure_port('[::]:50051')\n",
    "    server.start()\n",
    "    server.wait_for_termination()\n",
    "\n",
    "\n",
    "if __name__ == '__main__':\n",
    "    logging.basicConfig()\n",
    "    serve()"
   ]
  }
 ],
 "metadata": {
  "interpreter": {
   "hash": "aa191c739e4238b6bce09f0aa2a4d176429cce0a8f0c895412859a226c16b236"
  },
  "kernelspec": {
   "display_name": "Python 3 (ipykernel)",
   "language": "python",
   "name": "python3"
  },
  "language_info": {
   "codemirror_mode": {
    "name": "ipython",
    "version": 3
   },
   "file_extension": ".py",
   "mimetype": "text/x-python",
   "name": "python",
   "nbconvert_exporter": "python",
   "pygments_lexer": "ipython3",
   "version": "3.9.9"
  }
 },
 "nbformat": 4,
 "nbformat_minor": 5
}
